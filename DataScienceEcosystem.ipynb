{
 "cells": [
  {
   "cell_type": "markdown",
   "id": "32eb00a3-b7cf-47eb-ac23-0560af952eb8",
   "metadata": {},
   "source": [
    "# Data Science Tools and Ecosystem\r\n"
   ]
  },
  {
   "cell_type": "markdown",
   "id": "328e28d6-5738-4cdd-9865-e2d6e11397c6",
   "metadata": {},
   "source": [
    "# In this notebook, Data Science Tools and Ecosystem are summarized."
   ]
  },
  {
   "cell_type": "markdown",
   "id": "d6a5e42d-56a2-4157-970a-c2b63d6843cb",
   "metadata": {},
   "source": [
    "**Objectives:**\r\n",
    "\r\n",
    "- List popular languages for Data Science\r\n",
    "- Identify commonly used libraries in Data Science\r\n",
    "- Understand development environment tools for Data Science\r\n",
    "- Evaluate arithmetic expressions in Python\r\n",
    "- Create and format markdown cells in Jupyter Notebook\r\n"
   ]
  },
  {
   "cell_type": "markdown",
   "id": "adc83cc3-320b-4a2f-846b-3e4c170c2651",
   "metadata": {},
   "source": [
    "Some of the popular languages that Data Scientists use are:\r\n",
    "1. Python\r\n",
    "2. R\r\n",
    "3. SQL\r\n",
    "4. Julia\r\n",
    "5. Scala\r\n"
   ]
  },
  {
   "cell_type": "markdown",
   "id": "1b341e98-484a-4fd8-ae76-c8af662e76d5",
   "metadata": {},
   "source": [
    "Some of the commonly used libraries used by Data Scientists include:\r\n",
    "1. NumPy\r\n",
    "2. Pandas\r\n",
    "3. Matplotlib\r\n",
    "eabornearnScikit-learnrFlow\r\n"
   ]
  },
  {
   "cell_type": "markdown",
   "id": "f9fa2f69-31da-4d76-a188-f9f55ce75093",
   "metadata": {},
   "source": [
    "| Data Science Tools        |\r\n",
    "|---------------------------|\r\n",
    "| Jupyter Notebook          |\r\n",
    "| RStudio                   |\r\n",
    "| Apache Zeppelin           |\r\n"
   ]
  },
  {
   "cell_type": "code",
   "execution_count": 1,
   "id": "7f050944-27c6-4891-baa4-8e1fc2d8167b",
   "metadata": {},
   "outputs": [
    {
     "name": "stdout",
     "output_type": "stream",
     "text": [
      "30\n"
     ]
    }
   ],
   "source": [
    "###Below are a few examples of evaluating arithmetic expressions in Python\n",
    "a=10\n",
    "b=20\n",
    "c=a+b\n",
    "print(c)"
   ]
  },
  {
   "cell_type": "code",
   "execution_count": 2,
   "id": "bbe45621-cea0-43cf-89c8-6c0588a9c55d",
   "metadata": {},
   "outputs": [
    {
     "name": "stdout",
     "output_type": "stream",
     "text": [
      "17\n"
     ]
    }
   ],
   "source": [
    "# This a simple arithmetic expression to mutiply then add integers\n",
    "d=(3*4)+5\n",
    "print(d)"
   ]
  },
  {
   "cell_type": "code",
   "execution_count": 5,
   "id": "9de4fb3f-7fea-4926-a148-70c8984b7627",
   "metadata": {},
   "outputs": [
    {
     "name": "stdout",
     "output_type": "stream",
     "text": [
      "200 minutes in hours is 3.3333333333333335 minutes\n"
     ]
    }
   ],
   "source": [
    "#This will convert 200 minutes to hours by diving by 60\n",
    "a=200\n",
    "b=a/60\n",
    "print(a,\"minutes in hours is\",b,\"minutes\")"
   ]
  },
  {
   "cell_type": "markdown",
   "id": "28744e04-91ab-416b-99de-82ed7fb6e156",
   "metadata": {},
   "source": [
    "## AUTHOR\n",
    "ARCHITA DASGUPTA\n"
   ]
  },
  {
   "cell_type": "code",
   "execution_count": null,
   "id": "e675a0cb-97ba-4680-a1ad-bab057027e69",
   "metadata": {},
   "outputs": [],
   "source": []
  }
 ],
 "metadata": {
  "kernelspec": {
   "display_name": "Python 3 (ipykernel)",
   "language": "python",
   "name": "python3"
  },
  "language_info": {
   "codemirror_mode": {
    "name": "ipython",
    "version": 3
   },
   "file_extension": ".py",
   "mimetype": "text/x-python",
   "name": "python",
   "nbconvert_exporter": "python",
   "pygments_lexer": "ipython3",
   "version": "3.11.7"
  }
 },
 "nbformat": 4,
 "nbformat_minor": 5
}
